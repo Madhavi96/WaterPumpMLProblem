{
 "cells": [
  {
   "cell_type": "code",
   "execution_count": null,
   "metadata": {},
   "outputs": [],
   "source": [
    "import numpy as np\n",
    "import pandas as pd\n",
    "import matplotlib.pyplot as plt\n",
    "from matplotlib import rcParams\n",
    "from matplotlib.cm import rainbow\n",
    "%matplotlib inline\n",
    "import seaborn as sns\n",
    "import warnings\n",
    "warnings.filterwarnings('ignore')\n",
    "\n",
    "from sklearn.model_selection import train_test_split\n",
    "from sklearn.preprocessing import StandardScaler\n",
    "\n",
    "from sklearn.linear_model import LogisticRegression\n",
    "from sklearn.neighbors import KNeighborsClassifier\n",
    "from sklearn.svm import SVC\n",
    "from sklearn.tree import DecisionTreeClassifier\n",
    "from sklearn.ensemble import RandomForestClassifier\n",
    "from sklearn.metrics import accuracy_score\n",
    "from sklearn.metrics import confusion_matrix\n",
    "from sklearn.model_selection import cross_val_score\n",
    "import pickle\n"
   ]
  },
  {
   "cell_type": "code",
   "execution_count": null,
   "metadata": {},
   "outputs": [],
   "source": [
    "from google.colab import files\n",
    "uploaded = files.upload()"
   ]
  },
  {
   "cell_type": "code",
   "execution_count": null,
   "metadata": {},
   "outputs": [],
   "source": [
    "X_train=pd.read_csv(io.BytesIO(uploaded['train.csv']))\n",
    "y_train=pd.read_csv(io.BytesIO(uploaded['target.csv']))\n",
    "X_test=pd.read_csv(io.BytesIO(uploaded['test.csv']))\n"
   ]
  },
  {
   "cell_type": "code",
   "execution_count": null,
   "metadata": {},
   "outputs": [],
   "source": [
    "y_train.info()"
   ]
  },
  {
   "cell_type": "code",
   "execution_count": null,
   "metadata": {},
   "outputs": [],
   "source": [
    "def get_dummies_for_col(dataframe,dummy_col, threshold=0.1):\n",
    "\n",
    "    # removes the bind\n",
    "    dummy_col = dummy_col.copy()\n",
    "\n",
    "    # what is the ratio of a dummy in whole column\n",
    "    count = dummy_col.value_counts()/dummy_col.value_counts().sum()\n",
    "    \n",
    "    # cond whether the ratios is higher than the threshold\n",
    "    mask = dummy_col.isin(count[count > threshold].index)\n",
    "\n",
    "    # replace the ones which ratio is lower than the threshold by a special name\n",
    "    dummy_col[~mask] = \"others\"\n",
    "    \n",
    "    #dataset.drop(dummy_col.name, axis=1, inplace=True)\n",
    "    dataframe.drop(dummy_col.name, axis=1, inplace=True)\n",
    "    \n",
    "    new_df=pd.get_dummies(dummy_col, prefix=dummy_col.name)\n",
    "    \n",
    "    dataframe=dataframe.join(new_df)\n",
    "\n",
    "    return dataframe"
   ]
  },
  {
   "cell_type": "code",
   "execution_count": null,
   "metadata": {},
   "outputs": [],
   "source": [
    "def preprocessMyFields(dataset):\n",
    "    dataset.drop('amount_tsh', axis=1, inplace=True)\n",
    "    dataset.drop('num_private', axis=1, inplace=True)\n",
    "    dataset.drop('wpt_name', axis=1, inplace=True)\n",
    "    dataset.drop('subvillage', axis=1, inplace=True)\n",
    "    dataset.drop('population', axis=1, inplace=True)\n",
    "    dataset.drop('region_code', axis=1, inplace=True)\n",
    "    dataset.drop('lga', axis=1, inplace=True)\n",
    "    dataset.drop('region', axis=1, inplace=True)\n",
    "    dataset.drop('ward', axis=1, inplace=True)\n",
    "    dataset.drop('longitude', axis=1, inplace=True)\n",
    "    dataset.drop('latitude', axis=1, inplace=True)\n",
    "    dataset.drop('recorded_by', axis=1, inplace=True)\n",
    "    dataset.drop('scheme_name', axis=1, inplace=True)\n",
    "    dataset.drop('waterpoint_type_group', axis=1, inplace=True)\n",
    "    dataset.drop('source_type', axis=1, inplace=True)\n",
    "    dataset.drop('source', axis=1, inplace=True)\n",
    "    dataset.drop('quantity', axis=1, inplace=True)\n",
    "    dataset.drop('quality_group', axis=1, inplace=True)\n",
    "    dataset.drop('payment', axis=1, inplace=True)\n",
    "    dataset.drop('management', axis=1, inplace=True)\n",
    "    dataset.drop('scheme_management', axis=1, inplace=True)\n",
    "    dataset.drop('extraction_type_group', axis=1, inplace=True)\n",
    "    dataset.drop('extraction_type_class', axis=1, inplace=True)\n",
    "    dataset.drop('date_recorded', axis=1, inplace=True)\n",
    "    dataset.drop('district_code', axis=1, inplace=True)\n",
    "\n",
    "    #dataset['population']=dataset['population'].replace({0:dataset['population'].mean() })\n",
    "    dataset['construction_year']=dataset['construction_year'].replace({0:dataset['construction_year'].quantile(0.5) })\n",
    "    dataset['public_meeting']=dataset['public_meeting'].replace({True: 1, False: 0})\n",
    "    dataset['permit']=dataset['permit'].replace({True: 1, False: 0})\n",
    "    max_publicmeeting=dataset['public_meeting'].value_counts().idxmax()\n",
    "    max_permit=dataset['permit'].value_counts().idxmax()\n",
    "\n",
    "    dataset['public_meeting']=dataset['public_meeting'].fillna(max_publicmeeting)\n",
    "    dataset['permit']=dataset['permit'].fillna(max_permit)\n",
    "    max_funder=dataset['funder'].value_counts().idxmax()\n",
    "    dataset['funder']=dataset['funder'].fillna(max_funder)\n",
    "    dataset['gps_height']=dataset['gps_height'].replace({0:dataset['gps_height'].mean() })\n",
    "    max_installer = dataset['installer'].value_counts().idxmax()\n",
    "    dataset['installer']=dataset['installer'].fillna(max_installer)\n",
    "    \n",
    "    \n",
    "    dataset=get_dummies_for_col(dataset,dataset['funder'])\n",
    "    dataset=get_dummies_for_col(dataset,dataset['installer'])\n",
    "    dataset=get_dummies_for_col(dataset,dataset['basin'])\n",
    "    dataset=get_dummies_for_col(dataset,dataset['management_group'])\n",
    "    dataset=get_dummies_for_col(dataset,dataset['extraction_type'],0.13)\n",
    "    dataset=get_dummies_for_col(dataset,dataset['payment_type'])\n",
    "    dataset=get_dummies_for_col(dataset,dataset['water_quality'],0.01)\n",
    "    dataset=get_dummies_for_col(dataset,dataset['quantity_group'])\n",
    "    dataset=get_dummies_for_col(dataset,dataset['source_class'])\n",
    "    dataset=get_dummies_for_col(dataset,dataset['waterpoint_type'],0.2)\n",
    "    \n",
    "    \n",
    "    \n",
    "    #dataset.drop('id', axis=1, inplace=True)\n",
    "    return dataset\n",
    "                "
   ]
  },
  {
   "cell_type": "code",
   "execution_count": null,
   "metadata": {},
   "outputs": [],
   "source": [
    "X_train_preprocessed = preprocessMyFields(X_train)\n",
    "X_test_preprocessed = preprocessMyFields(X_test)"
   ]
  },
  {
   "cell_type": "code",
   "execution_count": null,
   "metadata": {},
   "outputs": [],
   "source": [
    "X_train_preprocessed.info()"
   ]
  },
  {
   "cell_type": "code",
   "execution_count": null,
   "metadata": {},
   "outputs": [],
   "source": [
    "scaler = StandardScaler().fit(X_train_preprocessed) \n",
    "scaled_dataset_X = scaler.transform(X_train_preprocessed) \n",
    "scaled_testset_X=scaler.transform(X_test_preprocessed)\n",
    "#y_train=pd.get_dummies(y_train)\n"
   ]
  },
  {
   "cell_type": "code",
   "execution_count": null,
   "metadata": {},
   "outputs": [],
   "source": [
    "# Fit the model on training set\n",
    "model = RandomForestClassifier(n_estimators=100)\n",
    "#print(cross_val_score(model, scaled_dataset_X, y_train, cv=10, scoring='accuracy').mean())\n"
   ]
  },
  {
   "cell_type": "code",
   "execution_count": null,
   "metadata": {},
   "outputs": [],
   "source": [
    "\n",
    "model.fit(scaled_dataset_X, y_train)\n",
    "# save the model to disk\n",
    "#filename = 'finalized_model.sav'\n",
    "#pickle.dump(model, open(filename, 'wb'))\n",
    " "
   ]
  },
  {
   "cell_type": "code",
   "execution_count": null,
   "metadata": {},
   "outputs": [],
   "source": [
    "# some time later...\n",
    " \n",
    "# load the model from disk\n",
    "#loaded_model = pickle.load(open(filename, 'rb'))\n",
    "prediction_test = model.predict(scaled_testset_X)\n",
    "\n",
    "submission_df = pd.DataFrame({\"id\":X_test[\"id\"].values,\"status_group\":prediction_test})\n",
    "submission_df.to_csv(io.BytesIO(uploaded['submissions.csv']),index=False)"
   ]
  },
  {
   "cell_type": "code",
   "execution_count": null,
   "metadata": {},
   "outputs": [],
   "source": []
  }
 ],
 "metadata": {
  "kernelspec": {
   "display_name": "Python 3",
   "language": "python",
   "name": "python3"
  },
  "language_info": {
   "codemirror_mode": {
    "name": "ipython",
    "version": 3
   },
   "file_extension": ".py",
   "mimetype": "text/x-python",
   "name": "python",
   "nbconvert_exporter": "python",
   "pygments_lexer": "ipython3",
   "version": "3.6.8"
  }
 },
 "nbformat": 4,
 "nbformat_minor": 2
}
